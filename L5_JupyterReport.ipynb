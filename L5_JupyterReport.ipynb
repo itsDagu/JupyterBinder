{
 "cells": [
  {
   "cell_type": "markdown",
   "metadata": {
    "slideshow": {
     "slide_type": "slide"
    }
   },
   "source": [
    "# Statistical Methods for High Dimensional Biology (STAT/BIOF/GSAT 540)\n",
    "\n",
    "\n",
    "\n",
    "# Lecture 5: Two-group Comparisons and Statistical Inference"
   ]
  },
  {
   "cell_type": "markdown",
   "metadata": {
    "slideshow": {
     "slide_type": "subslide"
    }
   },
   "source": [
    "# Overview\n",
    "In this lecture, you will learn about ...\n",
    "\n",
    "### Learning Objectives:\n",
    "- 1\n",
    "- 2\n",
    "- 3\n",
    "\n",
    "### R Dependencies:\n",
    "\n",
    "- lattice\n",
    "- latticeExtra\n",
    "- RColorBrewer"
   ]
  },
  {
   "cell_type": "code",
   "execution_count": 1,
   "metadata": {
    "slideshow": {
     "slide_type": "skip"
    }
   },
   "outputs": [
    {
     "name": "stderr",
     "output_type": "stream",
     "text": [
      "Warning message:\n",
      "\"package 'knitr' was built under R version 3.4.4\"Warning message:\n",
      "\"package 'latticeExtra' was built under R version 3.4.3\"Loading required package: RColorBrewer\n"
     ]
    }
   ],
   "source": [
    "library(knitr)\n",
    "knitr::opts_knit$set(root.dir=\".\")\n",
    "\n",
    "library(lattice)\n",
    "library(latticeExtra)\n",
    "\n",
    "jCols <- c(x = \"blue\", y = \"orange\")\n",
    "trellis.par.set(superpose.symbol = list(col = jCols),\n",
    "                superpose.line = list(col = jCols))\n",
    "jCex <- 3"
   ]
  },
  {
   "cell_type": "markdown",
   "metadata": {
    "slideshow": {
     "slide_type": "slide"
    }
   },
   "source": [
    "# Data description\n",
    "\n",
    "We will be using the dataset from [SOURCE]\n",
    "\n",
    "This dataset entails ..."
   ]
  },
  {
   "cell_type": "markdown",
   "metadata": {
    "slideshow": {
     "slide_type": "subslide"
    }
   },
   "source": [
    "# Loading the data"
   ]
  },
  {
   "cell_type": "code",
   "execution_count": 2,
   "metadata": {
    "slideshow": {
     "slide_type": "-"
    }
   },
   "outputs": [
    {
     "name": "stdout",
     "output_type": "stream",
     "text": [
      "'data.frame':\t39 obs. of  4 variables:\n",
      " $ sidChar : chr  \"Sample_20\" \"Sample_21\" \"Sample_22\" \"Sample_23\" ...\n",
      " $ sidNum  : num  20 21 22 23 16 17 6 24 25 26 ...\n",
      " $ devStage: Factor w/ 5 levels \"E16\",\"P2\",\"P6\",..: 1 1 1 1 1 1 1 2 2 2 ...\n",
      " $ gType   : Factor w/ 2 levels \"wt\",\"NrlKO\": 1 1 1 1 2 2 2 1 1 1 ...\n",
      "'data.frame':\t29949 obs. of  39 variables:\n",
      " $ Sample_20: num  7.24 9.48 10.01 8.36 8.59 ...\n",
      " $ Sample_21: num  7.41 10.02 10.04 8.37 8.62 ...\n",
      " $ Sample_22: num  7.17 9.85 9.91 8.4 8.52 ...\n",
      " $ Sample_23: num  7.07 10.13 9.91 8.49 8.64 ...\n",
      " $ Sample_16: num  7.38 7.64 8.42 8.36 8.51 ...\n",
      " $ Sample_17: num  7.34 10.03 10.24 8.37 8.89 ...\n",
      " $ Sample_6 : num  7.24 9.71 10.17 8.84 8.54 ...\n",
      " $ Sample_24: num  7.11 9.75 9.39 8.37 8.36 ...\n",
      " $ Sample_25: num  7.19 9.16 10.11 8.2 8.5 ...\n",
      " $ Sample_26: num  7.18 9.49 9.41 8.73 8.39 ...\n",
      "  [list output truncated]\n"
     ]
    }
   ],
   "source": [
    "prDes <- readRDS(\"data/GSE4051_design.rds\")\n",
    "str(prDes)"
   ]
  },
  {
   "cell_type": "code",
   "execution_count": 19,
   "metadata": {
    "slideshow": {
     "slide_type": "-"
    }
   },
   "outputs": [
    {
     "name": "stdout",
     "output_type": "stream",
     "text": [
      "'data.frame':\t29949 obs. of  39 variables:\n",
      " $ Sample_20: num  7.24 9.48 10.01 8.36 8.59 ...\n",
      " $ Sample_21: num  7.41 10.02 10.04 8.37 8.62 ...\n",
      " $ Sample_22: num  7.17 9.85 9.91 8.4 8.52 ...\n",
      " $ Sample_23: num  7.07 10.13 9.91 8.49 8.64 ...\n",
      " $ Sample_16: num  7.38 7.64 8.42 8.36 8.51 ...\n",
      " $ Sample_17: num  7.34 10.03 10.24 8.37 8.89 ...\n",
      " $ Sample_6 : num  7.24 9.71 10.17 8.84 8.54 ...\n",
      " $ Sample_24: num  7.11 9.75 9.39 8.37 8.36 ...\n",
      " $ Sample_25: num  7.19 9.16 10.11 8.2 8.5 ...\n",
      " $ Sample_26: num  7.18 9.49 9.41 8.73 8.39 ...\n",
      "  [list output truncated]\n"
     ]
    }
   ],
   "source": [
    "prDat<-read.table(\"data/GSE4051_data.tsv\",\n",
    "                  sep = \"\\t\", header = T, row.names = 1)\n",
    "str(prDat, list.len = 10)"
   ]
  },
  {
   "cell_type": "markdown",
   "metadata": {
    "slideshow": {
     "slide_type": "subslide"
    }
   },
   "source": [
    "Here we examine the design of the study with a frequency table. We have four samples for each combination of development stage and genotype (except for \"E16 and NrlKO\", which has 3 samples)"
   ]
  },
  {
   "cell_type": "code",
   "execution_count": 3,
   "metadata": {
    "slideshow": {
     "slide_type": "-"
    }
   },
   "outputs": [
    {
     "data": {
      "text/plain": [
       "         gType\n",
       "devStage  wt NrlKO\n",
       "  E16      4     3\n",
       "  P2       4     4\n",
       "  P6       4     4\n",
       "  P10      4     4\n",
       "  4_weeks  4     4"
      ]
     },
     "metadata": {},
     "output_type": "display_data"
    }
   ],
   "source": [
    "with(prDes, table(devStage, gType))"
   ]
  },
  {
   "cell_type": "markdown",
   "metadata": {
    "slideshow": {
     "slide_type": "subslide"
    }
   },
   "source": [
    "A cursory glance at the experession data reveals:"
   ]
  },
  {
   "cell_type": "code",
   "execution_count": 4,
   "metadata": {
    "slideshow": {
     "slide_type": "-"
    }
   },
   "outputs": [
    {
     "data": {
      "text/html": [
       "<table>\n",
       "<caption>A data.frame: 6 × 5</caption>\n",
       "<thead>\n",
       "\t<tr><th></th><th scope=col>Sample_20</th><th scope=col>Sample_21</th><th scope=col>Sample_22</th><th scope=col>Sample_23</th><th scope=col>Sample_16</th></tr>\n",
       "\t<tr><th></th><th scope=col>&lt;dbl&gt;</th><th scope=col>&lt;dbl&gt;</th><th scope=col>&lt;dbl&gt;</th><th scope=col>&lt;dbl&gt;</th><th scope=col>&lt;dbl&gt;</th></tr>\n",
       "</thead>\n",
       "<tbody>\n",
       "\t<tr><th scope=row>1415670_at</th><td> 7.236</td><td> 7.414</td><td>7.169</td><td> 7.070</td><td>7.383</td></tr>\n",
       "\t<tr><th scope=row>1415671_at</th><td> 9.478</td><td>10.020</td><td>9.854</td><td>10.130</td><td>7.637</td></tr>\n",
       "\t<tr><th scope=row>1415672_at</th><td>10.010</td><td>10.040</td><td>9.913</td><td> 9.907</td><td>8.423</td></tr>\n",
       "\t<tr><th scope=row>1415673_at</th><td> 8.362</td><td> 8.374</td><td>8.404</td><td> 8.487</td><td>8.363</td></tr>\n",
       "\t<tr><th scope=row>1415674_a_at</th><td> 8.585</td><td> 8.615</td><td>8.520</td><td> 8.641</td><td>8.509</td></tr>\n",
       "\t<tr><th scope=row>1415675_at</th><td> 9.591</td><td> 9.719</td><td>9.709</td><td> 9.700</td><td>9.656</td></tr>\n",
       "</tbody>\n",
       "</table>\n"
      ],
      "text/latex": [
       "A data.frame: 6 × 5\n",
       "\\begin{tabular}{r|lllll}\n",
       "  & Sample\\_20 & Sample\\_21 & Sample\\_22 & Sample\\_23 & Sample\\_16\\\\\n",
       "  & <dbl> & <dbl> & <dbl> & <dbl> & <dbl>\\\\\n",
       "\\hline\n",
       "\t1415670\\_at &  7.236 &  7.414 & 7.169 &  7.070 & 7.383\\\\\n",
       "\t1415671\\_at &  9.478 & 10.020 & 9.854 & 10.130 & 7.637\\\\\n",
       "\t1415672\\_at & 10.010 & 10.040 & 9.913 &  9.907 & 8.423\\\\\n",
       "\t1415673\\_at &  8.362 &  8.374 & 8.404 &  8.487 & 8.363\\\\\n",
       "\t1415674\\_a\\_at &  8.585 &  8.615 & 8.520 &  8.641 & 8.509\\\\\n",
       "\t1415675\\_at &  9.591 &  9.719 & 9.709 &  9.700 & 9.656\\\\\n",
       "\\end{tabular}\n"
      ],
      "text/markdown": [
       "\n",
       "A data.frame: 6 × 5\n",
       "\n",
       "| <!--/--> | Sample_20 &lt;dbl&gt; | Sample_21 &lt;dbl&gt; | Sample_22 &lt;dbl&gt; | Sample_23 &lt;dbl&gt; | Sample_16 &lt;dbl&gt; |\n",
       "|---|---|---|---|---|---|\n",
       "| 1415670_at |  7.236 |  7.414 | 7.169 |  7.070 | 7.383 |\n",
       "| 1415671_at |  9.478 | 10.020 | 9.854 | 10.130 | 7.637 |\n",
       "| 1415672_at | 10.010 | 10.040 | 9.913 |  9.907 | 8.423 |\n",
       "| 1415673_at |  8.362 |  8.374 | 8.404 |  8.487 | 8.363 |\n",
       "| 1415674_a_at |  8.585 |  8.615 | 8.520 |  8.641 | 8.509 |\n",
       "| 1415675_at |  9.591 |  9.719 | 9.709 |  9.700 | 9.656 |\n",
       "\n"
      ],
      "text/plain": [
       "             Sample_20 Sample_21 Sample_22 Sample_23 Sample_16\n",
       "1415670_at    7.236     7.414    7.169      7.070    7.383    \n",
       "1415671_at    9.478    10.020    9.854     10.130    7.637    \n",
       "1415672_at   10.010    10.040    9.913      9.907    8.423    \n",
       "1415673_at    8.362     8.374    8.404      8.487    8.363    \n",
       "1415674_a_at  8.585     8.615    8.520      8.641    8.509    \n",
       "1415675_at    9.591     9.719    9.709      9.700    9.656    "
      ]
     },
     "metadata": {},
     "output_type": "display_data"
    }
   ],
   "source": [
    "head(subset(prDat, select = 1:5))"
   ]
  },
  {
   "cell_type": "markdown",
   "metadata": {
    "slideshow": {
     "slide_type": "subslide"
    }
   },
   "source": [
    "# Subsetting the data\n",
    "\n",
    "Nrl (neural retina leucine zipper gene) is the gene that was knocked out in half the mice, and should obviously be differentially expressed. Nrl’s probeset ID is “1450946_at”. Irs4 (insulin receptor substrate 4) is selected as a boring non-differentially expressed gene. Irs4’s probeset ID is “1422248_at”."
   ]
  },
  {
   "cell_type": "markdown",
   "metadata": {
    "slideshow": {
     "slide_type": "subslide"
    }
   },
   "source": [
    "We extract the rows for each of these genes, transpose and then vectorize the data. We then merge this data together with the design metadata. Ensure that the samples match between the data and design before merging."
   ]
  },
  {
   "cell_type": "code",
   "execution_count": 5,
   "metadata": {
    "slideshow": {
     "slide_type": "-"
    }
   },
   "outputs": [
    {
     "name": "stderr",
     "output_type": "stream",
     "text": [
      "Warning message in data.frame(prDes, miniDat):\n",
      "\"row names were found from a short variable and have been discarded\""
     ]
    },
    {
     "name": "stdout",
     "output_type": "stream",
     "text": [
      "'data.frame':\t78 obs. of  6 variables:\n",
      " $ sidChar : chr  \"Sample_20\" \"Sample_21\" \"Sample_22\" \"Sample_23\" ...\n",
      " $ sidNum  : num  20 21 22 23 16 17 6 24 25 26 ...\n",
      " $ devStage: Factor w/ 5 levels \"E16\",\"P2\",\"P6\",..: 1 1 1 1 1 1 1 2 2 2 ...\n",
      " $ gType   : Factor w/ 2 levels \"wt\",\"NrlKO\": 1 1 1 1 2 2 2 1 1 1 ...\n",
      " $ gene    : Factor w/ 2 levels \"Irs4\",\"Nrl\": 1 1 1 1 1 1 1 1 1 1 ...\n",
      " $ gExp    : num  7.87 7.78 7.58 7.4 8.08 ...\n"
     ]
    }
   ],
   "source": [
    "miniDat <- as.vector(t(prDat[c(\"1422248_at\", \"1450946_at\"), ]))\n",
    "miniDat <- data.frame(gene = rep(c(\"Irs4\", \"Nrl\"), each = nrow(prDes)),\n",
    "                      gExp = miniDat)\n",
    "miniDat <- data.frame(prDes, miniDat) # ignore the warning about row names\n",
    "str(miniDat)"
   ]
  },
  {
   "cell_type": "markdown",
   "metadata": {
    "slideshow": {
     "slide_type": "slide"
    }
   },
   "source": [
    "# Data visualization for two-group comparisons \n",
    "\n",
    "We have a few options to visualize the differences in gene expression between genotypes. In each plot, we generate a panel for each gene."
   ]
  },
  {
   "cell_type": "markdown",
   "metadata": {
    "slideshow": {
     "slide_type": "subslide"
    }
   },
   "source": [
    "# Strip plots\n",
    "One option is to examine a strip plot. The first plot allows the x-axis scale to be freely set for each gene (dependent on the range of gene expression). The second plot forces both panels to have matching x-axis scales, which allows for between gene comparisons as well. The final plot let’s us plot the mean values of gene expression for each gene and genotype."
   ]
  },
  {
   "cell_type": "code",
   "execution_count": 6,
   "metadata": {
    "slideshow": {
     "slide_type": "fragment"
    }
   },
   "outputs": [
    {
     "data": {
      "image/png": "[encoded data removed]",
      "text/plain": [
       "plot without title"
      ]
     },
     "metadata": {},
     "output_type": "display_data"
    }
   ],
   "source": [
    "stripplot(gType ~ gExp | gene, miniDat,\n",
    "          scales = list(x = list(relation = \"free\")),\n",
    "          groups = gType, auto.key = TRUE,\n",
    "          aspect = 0.5, layout = c(2, 1))"
   ]
  },
  {
   "cell_type": "code",
   "execution_count": 7,
   "metadata": {
    "slideshow": {
     "slide_type": "fragment"
    }
   },
   "outputs": [
    {
     "data": {
      "image/png": "[encoded data removed]",
      "text/plain": [
       "plot without title"
      ]
     },
     "metadata": {},
     "output_type": "display_data"
    }
   ],
   "source": [
    "stripplot(gType ~ gExp | gene, miniDat,\n",
    "          groups = gType, auto.key = TRUE,\n",
    "          aspect = 0.5, layout = c(2, 1))"
   ]
  },
  {
   "cell_type": "code",
   "execution_count": 8,
   "metadata": {
    "slideshow": {
     "slide_type": "fragment"
    }
   },
   "outputs": [
    {
     "data": {
      "image/png": "[encoded data removed]",
      "text/plain": [
       "plot without title"
      ]
     },
     "metadata": {},
     "output_type": "display_data"
    }
   ],
   "source": [
    "jFudge <- 0.35\n",
    "stripplot(gType ~ gExp | gene, miniDat,\n",
    "          grid = TRUE,\n",
    "          scales = list(x = list(relation = \"free\")),\n",
    "          groups = gType, jitter.data = TRUE,\n",
    "          aspect = 0.5, layout = c(2, 1),\n",
    "          panel = panel.superpose,\n",
    "          panel.groups = function(x, y, ..., group.number) {\n",
    "            yo <- group.number\n",
    "            panel.stripplot(x, y, ...)\n",
    "            theAvg <- mean(x)\n",
    "            panel.points(theAvg, y[1], pch = \"|\", cex = jCex,\n",
    "                         col = jCols[group.number])\n",
    "            jLab <- substitute(paste(bar(Z), \" = \", foo),\n",
    "                        list(Z = c(\"Y\", \"Z\")[group.number],\n",
    "                             foo = round(theAvg, 2)))\n",
    "            panel.text(x = mean(x), y = y[1] + jFudge,\n",
    "                       jLab)\n",
    "          })"
   ]
  },
  {
   "cell_type": "markdown",
   "metadata": {
    "slideshow": {
     "slide_type": "subslide"
    }
   },
   "source": [
    "# Density plots\n",
    "Another option is to examine a density plot. This plot let's us observe the distributions of gene expression, and how these distributions compare across genotype. The second plot is a \"violin\" plot, which provides a similar visualization as the density plot."
   ]
  },
  {
   "cell_type": "code",
   "execution_count": 9,
   "metadata": {
    "slideshow": {
     "slide_type": "-"
    }
   },
   "outputs": [
    {
     "data": {
      "image/png": "[encoded data removed]",
      "text/plain": [
       "plot without title"
      ]
     },
     "metadata": {},
     "output_type": "display_data"
    },
    {
     "data": {
      "image/png": "[encoded data removed]",
      "text/plain": [
       "plot without title"
      ]
     },
     "metadata": {},
     "output_type": "display_data"
    }
   ],
   "source": [
    "densityplot(~ gExp | gene, miniDat,\n",
    "            scales = list(x = list(relation = \"free\")),\n",
    "            groups = gType, auto.key = TRUE)\n",
    "\n",
    "bwplot(gType ~ gExp | gene, miniDat,\n",
    "       scales = list(x = list(relation = \"free\")),\n",
    "       panel = function(...) {\n",
    "         panel.violin(..., col = \"grey90\")\n",
    "         panel.stripplot(..., col = \"black\")\n",
    "       })"
   ]
  },
  {
   "cell_type": "markdown",
   "metadata": {
    "slideshow": {
     "slide_type": "subslide"
    }
   },
   "source": [
    "# Boxplots\n",
    "Boxplots may be another good choice. We can observe the median and IQR of our group distributions, as well as identify any outliers. The second plot combines a boxplot together with a \"violin\" plot."
   ]
  },
  {
   "cell_type": "code",
   "execution_count": 10,
   "metadata": {
    "slideshow": {
     "slide_type": "-"
    }
   },
   "outputs": [
    {
     "data": {
      "image/png": "[encoded data removed]",
      "text/plain": [
       "plot without title"
      ]
     },
     "metadata": {},
     "output_type": "display_data"
    },
    {
     "data": {
      "image/png": "[encoded data removed]",
      "text/plain": [
       "plot without title"
      ]
     },
     "metadata": {},
     "output_type": "display_data"
    }
   ],
   "source": [
    "bwplot(gType ~ gExp | gene, miniDat,\n",
    "       scales = list(x = list(relation = \"free\")))\n",
    "\n",
    "bwplot(gType ~ gExp | gene, miniDat,\n",
    "       scales = list(x = list(relation = \"free\")),\n",
    "       panel = function(..., box.ratio) {\n",
    "         panel.violin(..., col = \"transparent\", border = \"black\",\n",
    "                      varwidth = FALSE, box.ratio = box.ratio)\n",
    "         panel.bwplot(..., fill = NULL, box.ratio = .1)\n",
    "       })"
   ]
  },
  {
   "cell_type": "markdown",
   "metadata": {
    "slideshow": {
     "slide_type": "slide"
    }
   },
   "source": [
    "# Statistical Inference"
   ]
  },
  {
   "cell_type": "markdown",
   "metadata": {
    "slideshow": {
     "slide_type": "subslide"
    }
   },
   "source": [
    "# Two-group inference: t-tests\n",
    "\n",
    "Now we're interested in testing whether we see a significant difference in mean gene expression between the wildtype and the NrlKO genotype. One option is to use a \"two sample\" t-test (sample here refers to the groups, not the individual samples). We compute the sample means for each genotype, for the two genes of interest. We then obtain the sample mean differences between wildtype and NrlKO for each gene. "
   ]
  },
  {
   "cell_type": "code",
   "execution_count": 11,
   "metadata": {
    "slideshow": {
     "slide_type": "-"
    }
   },
   "outputs": [
    {
     "data": {
      "text/html": [
       "<table>\n",
       "<caption>A matrix: 2 × 2 of type dbl</caption>\n",
       "<thead>\n",
       "\t<tr><th></th><th scope=col>Irs4</th><th scope=col>Nrl</th></tr>\n",
       "</thead>\n",
       "<tbody>\n",
       "\t<tr><th scope=row>wt</th><td>7.765750</td><td>11.244200</td></tr>\n",
       "\t<tr><th scope=row>NrlKO</th><td>7.739684</td><td> 6.089632</td></tr>\n",
       "</tbody>\n",
       "</table>\n"
      ],
      "text/latex": [
       "A matrix: 2 × 2 of type dbl\n",
       "\\begin{tabular}{r|ll}\n",
       "  & Irs4 & Nrl\\\\\n",
       "\\hline\n",
       "\twt & 7.765750 & 11.244200\\\\\n",
       "\tNrlKO & 7.739684 &  6.089632\\\\\n",
       "\\end{tabular}\n"
      ],
      "text/markdown": [
       "\n",
       "A matrix: 2 × 2 of type dbl\n",
       "\n",
       "| <!--/--> | Irs4 | Nrl |\n",
       "|---|---|---|\n",
       "| wt | 7.765750 | 11.244200 |\n",
       "| NrlKO | 7.739684 |  6.089632 |\n",
       "\n"
      ],
      "text/plain": [
       "      Irs4     Nrl      \n",
       "wt    7.765750 11.244200\n",
       "NrlKO 7.739684  6.089632"
      ]
     },
     "metadata": {},
     "output_type": "display_data"
    },
    {
     "data": {
      "text/html": [
       "<dl class=dl-horizontal>\n",
       "\t<dt>Irs4</dt>\n",
       "\t\t<dd>-0.0260657894736838</dd>\n",
       "\t<dt>Nrl</dt>\n",
       "\t\t<dd>-5.15456842105263</dd>\n",
       "</dl>\n"
      ],
      "text/latex": [
       "\\begin{description*}\n",
       "\\item[Irs4] -0.0260657894736838\n",
       "\\item[Nrl] -5.15456842105263\n",
       "\\end{description*}\n"
      ],
      "text/markdown": [
       "Irs4\n",
       ":   -0.0260657894736838Nrl\n",
       ":   -5.15456842105263\n",
       "\n"
      ],
      "text/plain": [
       "       Irs4         Nrl \n",
       "-0.02606579 -5.15456842 "
      ]
     },
     "metadata": {},
     "output_type": "display_data"
    }
   ],
   "source": [
    "## compute difference of sample averages\n",
    "(theAvgs <- with(miniDat,\n",
    "                 tapply(gExp, list(gType, gene), mean)))\n",
    "\n",
    "(theDiff <- theAvgs[\"NrlKO\", ] - theAvgs[\"wt\", ])"
   ]
  },
  {
   "cell_type": "markdown",
   "metadata": {
    "slideshow": {
     "slide_type": "subslide"
    }
   },
   "source": [
    "Next, we compute the estimated variance of the difference between group sample means. We have two options here. One is that we can assume that the population variances of the two groups (the populations here being the wildtype and the NrlKO populations) are either inequivalent or equivalent. The following code computes both. The unequal variances option corresponds to the \"Welch\" two sample t-test."
   ]
  },
  {
   "cell_type": "code",
   "execution_count": 12,
   "metadata": {
    "slideshow": {
     "slide_type": "-"
    }
   },
   "outputs": [
    {
     "data": {
      "text/html": [
       "<table>\n",
       "<caption>A matrix: 2 × 2 of type dbl</caption>\n",
       "<thead>\n",
       "\t<tr><th></th><th scope=col>Irs4</th><th scope=col>Nrl</th></tr>\n",
       "</thead>\n",
       "<tbody>\n",
       "\t<tr><th scope=row>wt</th><td>0.02403557</td><td>1.2243331</td></tr>\n",
       "\t<tr><th scope=row>NrlKO</th><td>0.02332078</td><td>0.5942802</td></tr>\n",
       "</tbody>\n",
       "</table>\n"
      ],
      "text/latex": [
       "A matrix: 2 × 2 of type dbl\n",
       "\\begin{tabular}{r|ll}\n",
       "  & Irs4 & Nrl\\\\\n",
       "\\hline\n",
       "\twt & 0.02403557 & 1.2243331\\\\\n",
       "\tNrlKO & 0.02332078 & 0.5942802\\\\\n",
       "\\end{tabular}\n"
      ],
      "text/markdown": [
       "\n",
       "A matrix: 2 × 2 of type dbl\n",
       "\n",
       "| <!--/--> | Irs4 | Nrl |\n",
       "|---|---|---|\n",
       "| wt | 0.02403557 | 1.2243331 |\n",
       "| NrlKO | 0.02332078 | 0.5942802 |\n",
       "\n"
      ],
      "text/plain": [
       "      Irs4       Nrl      \n",
       "wt    0.02403557 1.2243331\n",
       "NrlKO 0.02332078 0.5942802"
      ]
     },
     "metadata": {},
     "output_type": "display_data"
    },
    {
     "data": {
      "text/html": [
       "20"
      ],
      "text/latex": [
       "20"
      ],
      "text/markdown": [
       "20"
      ],
      "text/plain": [
       "[1] 20"
      ]
     },
     "metadata": {},
     "output_type": "display_data"
    },
    {
     "data": {
      "text/html": [
       "19"
      ],
      "text/latex": [
       "19"
      ],
      "text/markdown": [
       "19"
      ],
      "text/plain": [
       "[1] 19"
      ]
     },
     "metadata": {},
     "output_type": "display_data"
    },
    {
     "data": {
      "text/html": [
       "<dl class=dl-horizontal>\n",
       "\t<dt>Irs4</dt>\n",
       "\t\t<dd>0.00242918795398584</dd>\n",
       "\t<dt>Nrl</dt>\n",
       "\t\t<dd>0.0924945634533703</dd>\n",
       "</dl>\n"
      ],
      "text/latex": [
       "\\begin{description*}\n",
       "\\item[Irs4] 0.00242918795398584\n",
       "\\item[Nrl] 0.0924945634533703\n",
       "\\end{description*}\n"
      ],
      "text/markdown": [
       "Irs4\n",
       ":   0.00242918795398584Nrl\n",
       ":   0.0924945634533703\n",
       "\n"
      ],
      "text/plain": [
       "       Irs4         Nrl \n",
       "0.002429188 0.092494563 "
      ]
     },
     "metadata": {},
     "output_type": "display_data"
    },
    {
     "data": {
      "text/html": [
       "<dl class=dl-horizontal>\n",
       "\t<dt>Irs4</dt>\n",
       "\t\t<dd>0.0236878339260313</dd>\n",
       "\t<dt>Nrl</dt>\n",
       "\t\t<dd>0.917820908677098</dd>\n",
       "</dl>\n"
      ],
      "text/latex": [
       "\\begin{description*}\n",
       "\\item[Irs4] 0.0236878339260313\n",
       "\\item[Nrl] 0.917820908677098\n",
       "\\end{description*}\n"
      ],
      "text/markdown": [
       "Irs4\n",
       ":   0.0236878339260313Nrl\n",
       ":   0.917820908677098\n",
       "\n"
      ],
      "text/plain": [
       "      Irs4        Nrl \n",
       "0.02368783 0.91782091 "
      ]
     },
     "metadata": {},
     "output_type": "display_data"
    },
    {
     "data": {
      "text/html": [
       "<dl class=dl-horizontal>\n",
       "\t<dt>Irs4</dt>\n",
       "\t\t<dd>0.00243111979767163</dd>\n",
       "\t<dt>Nrl</dt>\n",
       "\t\t<dd>0.094197409048439</dd>\n",
       "</dl>\n"
      ],
      "text/latex": [
       "\\begin{description*}\n",
       "\\item[Irs4] 0.00243111979767163\n",
       "\\item[Nrl] 0.094197409048439\n",
       "\\end{description*}\n"
      ],
      "text/markdown": [
       "Irs4\n",
       ":   0.00243111979767163Nrl\n",
       ":   0.094197409048439\n",
       "\n"
      ],
      "text/plain": [
       "      Irs4        Nrl \n",
       "0.00243112 0.09419741 "
      ]
     },
     "metadata": {},
     "output_type": "display_data"
    }
   ],
   "source": [
    "## compute sample variances\n",
    "(theVars <- with(miniDat,\n",
    "                 tapply(gExp, list(gType, gene), var)))\n",
    "\n",
    "## compute estimated variance of zbar - ybar\n",
    "(nY <- with(miniDat, sum(gType == \"wt\" & gene == \"Nrl\")))\n",
    "(nZ <- with(miniDat, sum(gType == \"NrlKO\" & gene == \"Nrl\")))\n",
    "\n",
    "## assuming unequal true variance\n",
    "(s2DiffWelch <- colSums(theVars / c(nY, nZ)))\n",
    "\n",
    "## assuming equal true variance\n",
    "(s2Pooled <- colSums(theVars * c((nY - 1) / (nY + nZ - 2),\n",
    "                                 (nZ - 1) / (nY + nZ - 2))))\n",
    "\n",
    "(s2Diff <- s2Pooled * (1/nY + 1/nZ))"
   ]
  },
  {
   "cell_type": "markdown",
   "metadata": {
    "slideshow": {
     "slide_type": "subslide"
    }
   },
   "source": [
    "With the difference in means and our estimate of the variance of the difference between group sample means, we can compute the test statistic. In R, we can use the \"t.test\" function to compute the test statistic and perform the test for us. Our first tests are the Welch two-sample t-tests (in which we assume unequal group variances), and their results for both Irs4 and Nrl are shown below. Recall that our null hypothesis is that there is no difference in the sample means between the two groups. For each given test, we get a p-value for the test statistic based on the null sampling distribution. Notably, the tests corresponding to the Irs4 gene and Nrl gene have p-values of 0.6001 and nearly 0, respectively. This suggests a statistically significant difference in mean gene expression for Nrl, but not for Irs4."
   ]
  },
  {
   "cell_type": "code",
   "execution_count": 13,
   "metadata": {
    "slideshow": {
     "slide_type": "-"
    }
   },
   "outputs": [
    {
     "data": {
      "text/html": [
       "<dl class=dl-horizontal>\n",
       "\t<dt>Irs4</dt>\n",
       "\t\t<dd>-0.528859516759739</dd>\n",
       "\t<dt>Nrl</dt>\n",
       "\t\t<dd>-16.94861464017</dd>\n",
       "</dl>\n"
      ],
      "text/latex": [
       "\\begin{description*}\n",
       "\\item[Irs4] -0.528859516759739\n",
       "\\item[Nrl] -16.94861464017\n",
       "\\end{description*}\n"
      ],
      "text/markdown": [
       "Irs4\n",
       ":   -0.528859516759739Nrl\n",
       ":   -16.94861464017\n",
       "\n"
      ],
      "text/plain": [
       "       Irs4         Nrl \n",
       " -0.5288595 -16.9486146 "
      ]
     },
     "metadata": {},
     "output_type": "display_data"
    },
    {
     "data": {
      "text/plain": [
       "miniDat$gene: Irs4\n",
       "\n",
       "\tWelch Two Sample t-test\n",
       "\n",
       "data:  gExp by gType\n",
       "t = -0.52886, df = 36.948, p-value = 0.6001\n",
       "alternative hypothesis: true difference in means is not equal to 0\n",
       "95 percent confidence interval:\n",
       " -0.1259351  0.0738035\n",
       "sample estimates:\n",
       "mean in group NrlKO    mean in group wt \n",
       "           7.739684            7.765750 \n",
       "\n",
       "------------------------------------------------------------ \n",
       "miniDat$gene: Nrl\n",
       "\n",
       "\tWelch Two Sample t-test\n",
       "\n",
       "data:  gExp by gType\n",
       "t = -16.949, df = 34.005, p-value < 2.2e-16\n",
       "alternative hypothesis: true difference in means is not equal to 0\n",
       "95 percent confidence interval:\n",
       " -5.772630 -4.536507\n",
       "sample estimates:\n",
       "mean in group NrlKO    mean in group wt \n",
       "           6.089632           11.244200 \n"
      ]
     },
     "metadata": {},
     "output_type": "display_data"
    }
   ],
   "source": [
    "(welchStat <- theDiff / sqrt(s2DiffWelch))\n",
    "\n",
    "by(miniDat, miniDat$gene, function(theDat) {\n",
    "  ## to be compatible with the direction of the test, as I've described in\n",
    "  ## lecture slides, I need to reverse order of levels of gType factor\n",
    "  theDat$gType <- factor(theDat$gType, rev(levels(theDat$gType)))\n",
    "  t.test(gExp ~ gType, theDat)\n",
    "})"
   ]
  },
  {
   "cell_type": "markdown",
   "metadata": {
    "slideshow": {
     "slide_type": "subslide"
    }
   },
   "source": [
    "We perform the same tests, but this time assuming that the group variances are equal. The results are very similar. The test we choose to perform will depend on which assumption we want to make about the distributions of the group populations."
   ]
  },
  {
   "cell_type": "code",
   "execution_count": 14,
   "metadata": {
    "slideshow": {
     "slide_type": "-"
    }
   },
   "outputs": [
    {
     "data": {
      "text/html": [
       "<dl class=dl-horizontal>\n",
       "\t<dt>Irs4</dt>\n",
       "\t\t<dd>-0.528649350859384</dd>\n",
       "\t<dt>Nrl</dt>\n",
       "\t\t<dd>-16.7947224100064</dd>\n",
       "</dl>\n"
      ],
      "text/latex": [
       "\\begin{description*}\n",
       "\\item[Irs4] -0.528649350859384\n",
       "\\item[Nrl] -16.7947224100064\n",
       "\\end{description*}\n"
      ],
      "text/markdown": [
       "Irs4\n",
       ":   -0.528649350859384Nrl\n",
       ":   -16.7947224100064\n",
       "\n"
      ],
      "text/plain": [
       "       Irs4         Nrl \n",
       " -0.5286494 -16.7947224 "
      ]
     },
     "metadata": {},
     "output_type": "display_data"
    },
    {
     "data": {
      "text/plain": [
       "miniDat$gene: Irs4\n",
       "\n",
       "\tTwo Sample t-test\n",
       "\n",
       "data:  gExp by gType\n",
       "t = -0.52865, df = 37, p-value = 0.6002\n",
       "alternative hypothesis: true difference in means is not equal to 0\n",
       "95 percent confidence interval:\n",
       " -0.12597002  0.07383844\n",
       "sample estimates:\n",
       "mean in group NrlKO    mean in group wt \n",
       "           7.739684            7.765750 \n",
       "\n",
       "------------------------------------------------------------ \n",
       "miniDat$gene: Nrl\n",
       "\n",
       "\tTwo Sample t-test\n",
       "\n",
       "data:  gExp by gType\n",
       "t = -16.795, df = 37, p-value < 2.2e-16\n",
       "alternative hypothesis: true difference in means is not equal to 0\n",
       "95 percent confidence interval:\n",
       " -5.776439 -4.532698\n",
       "sample estimates:\n",
       "mean in group NrlKO    mean in group wt \n",
       "           6.089632           11.244200 \n"
      ]
     },
     "metadata": {},
     "output_type": "display_data"
    }
   ],
   "source": [
    "(tstStat <- theDiff / sqrt(s2Diff))\n",
    "\n",
    "by(miniDat, miniDat$gene, function(theDat) {\n",
    "  theDat$gType <- factor(theDat$gType, rev(levels(theDat$gType)))\n",
    "  t.test(gExp ~ gType, theDat, var.equal = TRUE)\n",
    "})"
   ]
  },
  {
   "cell_type": "markdown",
   "metadata": {
    "slideshow": {
     "slide_type": "subslide"
    }
   },
   "source": [
    "Here we have the null distribution, where we overlay the t-distribution (red dotted line) with 37 degrees of freedom on top of the normal distribution (black line). In the subsequent plot, we examine the test statistic for Irs4 and where it lies on the distribution. The highlighted areas in blue is a visualization of our p-value, our measure of how likely we are to see a test statistic as or more extreme than what we observed."
   ]
  },
  {
   "cell_type": "code",
   "execution_count": 15,
   "metadata": {},
   "outputs": [
    {
     "data": {
      "image/png": "[encoded data removed]",
      "text/plain": [
       "plot without title"
      ]
     },
     "metadata": {},
     "output_type": "display_data"
    },
    {
     "data": {
      "text/html": [
       "<dl class=dl-horizontal>\n",
       "\t<dt>Irs4</dt>\n",
       "\t\t<dd>0.60021</dd>\n",
       "\t<dt>Nrl</dt>\n",
       "\t\t<dd>0</dd>\n",
       "</dl>\n"
      ],
      "text/latex": [
       "\\begin{description*}\n",
       "\\item[Irs4] 0.60021\n",
       "\\item[Nrl] 0\n",
       "\\end{description*}\n"
      ],
      "text/markdown": [
       "Irs4\n",
       ":   0.60021Nrl\n",
       ":   0\n",
       "\n"
      ],
      "text/plain": [
       "   Irs4     Nrl \n",
       "0.60021 0.00000 "
      ]
     },
     "metadata": {},
     "output_type": "display_data"
    },
    {
     "data": {
      "text/html": [
       "<dl class=dl-horizontal>\n",
       "\t<dt>Irs4</dt>\n",
       "\t\t<dd>0.59705</dd>\n",
       "\t<dt>Nrl</dt>\n",
       "\t\t<dd>0</dd>\n",
       "</dl>\n"
      ],
      "text/latex": [
       "\\begin{description*}\n",
       "\\item[Irs4] 0.59705\n",
       "\\item[Nrl] 0\n",
       "\\end{description*}\n"
      ],
      "text/markdown": [
       "Irs4\n",
       ":   0.59705Nrl\n",
       ":   0\n",
       "\n"
      ],
      "text/plain": [
       "   Irs4     Nrl \n",
       "0.59705 0.00000 "
      ]
     },
     "metadata": {},
     "output_type": "display_data"
    },
    {
     "data": {
      "image/png": "[encoded data removed]",
      "text/plain": [
       "plot without title"
      ]
     },
     "metadata": {},
     "output_type": "display_data"
    }
   ],
   "source": [
    "## draw the null dist'n\n",
    "\n",
    "nullDistn <- data.frame(tVals = seq(-3.5, 3.5, length = 300))\n",
    "nullDistn$densT <- dt(nullDistn$tVals, df = nY + nZ - 2)\n",
    "nullDistn$densNorm <- dnorm(nullDistn$tVals)\n",
    "\n",
    "with(nullDistn,\n",
    "     matplot(x = nullDistn$tVals,\n",
    "             y = nullDistn[c(\"densT\", \"densNorm\")],\n",
    "             type = \"l\"))\n",
    "\n",
    "## depicting only for Irs4!\n",
    "\n",
    "with(nullDistn,\n",
    "     plot(densNorm ~ tVals, type = \"l\"))\n",
    "abline(v = tstStat[\"Irs4\"], lty = \"dashed\")\n",
    "\n",
    "foo <- subset(nullDistn, tVals < tstStat[\"Irs4\"])\n",
    "polygon(x = c(foo$tVals, rev(foo$tVals)),\n",
    "        y = c(rep(0, nrow(foo)), rev(foo$densNorm)),\n",
    "        col = \"blue\")\n",
    "\n",
    "polygon(x = -1 * c(foo$tVals, rev(foo$tVals)),\n",
    "        y = c(rep(0, nrow(foo)), rev(foo$densNorm)),\n",
    "        col = \"blue\")\n",
    "\n",
    "round(pt(-1 * abs(tstStat), df = nY + nZ - 2) * 2, 5)\n",
    "round(pnorm(-1 * abs(tstStat)) * 2, 5)"
   ]
  },
  {
   "cell_type": "markdown",
   "metadata": {
    "slideshow": {
     "slide_type": "subslide"
    }
   },
   "source": [
    "# Two-group inference: Wilcoxon Rank Test\n",
    "\n",
    "Another option to compare the distributions of gene expression between two groups is the Wilcoxon Rank Test. "
   ]
  },
  {
   "cell_type": "code",
   "execution_count": 16,
   "metadata": {
    "slideshow": {
     "slide_type": "-"
    }
   },
   "outputs": [
    {
     "name": "stderr",
     "output_type": "stream",
     "text": [
      "Warning message in wilcox.test.default(x = c(7.867, 7.783, 7.585, 7.4, 7.667, 7.818, :\n",
      "\"cannot compute exact p-value with ties\"Warning message in wilcox.test.default(x = c(8.761, 9.079, 10.61, 9.796, 11.39, :\n",
      "\"cannot compute exact p-value with ties\""
     ]
    },
    {
     "data": {
      "text/plain": [
       "miniDat$gene: Irs4\n",
       "\n",
       "\tWilcoxon rank sum test with continuity correction\n",
       "\n",
       "data:  gExp by gType\n",
       "W = 220.5, p-value = 0.3992\n",
       "alternative hypothesis: true location shift is not equal to 0\n",
       "\n",
       "------------------------------------------------------------ \n",
       "miniDat$gene: Nrl\n",
       "\n",
       "\tWilcoxon rank sum test with continuity correction\n",
       "\n",
       "data:  gExp by gType\n",
       "W = 379, p-value = 1.178e-07\n",
       "alternative hypothesis: true location shift is not equal to 0\n"
      ]
     },
     "metadata": {},
     "output_type": "display_data"
    },
    {
     "data": {
      "text/plain": [
       "miniDat$gene: Irs4\n",
       " [1] 31.5 22.0  7.0  1.0 38.0  2.0 37.0 11.0 27.0 35.0 13.0 28.0 36.0 16.0 24.0\n",
       "[16] 39.0 12.0 18.0 34.0 10.0  8.0  3.0  4.0 29.0  9.0 23.0 30.0 21.0 19.0 31.5\n",
       "[31] 14.5 33.0 25.0  5.0 26.0 17.0 14.5  6.0 20.0\n",
       "------------------------------------------------------------ \n",
       "miniDat$gene: Nrl\n",
       " [1] 19.0 21.0 24.5 23.0 15.0  9.0  1.0 27.0 24.5 28.0 22.0  8.0  5.0 14.0 17.0\n",
       "[16] 26.0 34.0 29.0 30.5 16.0 12.0 13.0 18.0 35.0 33.0 30.5 32.0 10.0  7.0  3.0\n",
       "[31] 11.0 37.0 38.0 39.0 36.0  2.0  4.0  6.0 20.0"
      ]
     },
     "metadata": {},
     "output_type": "display_data"
    },
    {
     "data": {
      "text/plain": [
       "miniDat$gene: Irs4\n",
       "   wt NrlKO \n",
       "430.5 349.5 \n",
       "------------------------------------------------------------ \n",
       "miniDat$gene: Nrl\n",
       "   wt NrlKO \n",
       "  589   191 "
      ]
     },
     "metadata": {},
     "output_type": "display_data"
    },
    {
     "data": {
      "text/html": [
       "<ol class=list-inline>\n",
       "\t<li>20</li>\n",
       "\t<li>19</li>\n",
       "</ol>\n"
      ],
      "text/latex": [
       "\\begin{enumerate*}\n",
       "\\item 20\n",
       "\\item 19\n",
       "\\end{enumerate*}\n"
      ],
      "text/markdown": [
       "1. 20\n",
       "2. 19\n",
       "\n",
       "\n"
      ],
      "text/plain": [
       "[1] 20 19"
      ]
     },
     "metadata": {},
     "output_type": "display_data"
    },
    {
     "data": {
      "text/html": [
       "<table>\n",
       "<caption>A matrix: 2 × 2 of type dbl</caption>\n",
       "<thead>\n",
       "\t<tr><th></th><th scope=col>Irs4</th><th scope=col>Nrl</th></tr>\n",
       "</thead>\n",
       "<tbody>\n",
       "\t<tr><th scope=row>wt</th><td>220.5</td><td>379</td></tr>\n",
       "\t<tr><th scope=row>NrlKO</th><td>159.5</td><td>  1</td></tr>\n",
       "</tbody>\n",
       "</table>\n"
      ],
      "text/latex": [
       "A matrix: 2 × 2 of type dbl\n",
       "\\begin{tabular}{r|ll}\n",
       "  & Irs4 & Nrl\\\\\n",
       "\\hline\n",
       "\twt & 220.5 & 379\\\\\n",
       "\tNrlKO & 159.5 &   1\\\\\n",
       "\\end{tabular}\n"
      ],
      "text/markdown": [
       "\n",
       "A matrix: 2 × 2 of type dbl\n",
       "\n",
       "| <!--/--> | Irs4 | Nrl |\n",
       "|---|---|---|\n",
       "| wt | 220.5 | 379 |\n",
       "| NrlKO | 159.5 |   1 |\n",
       "\n"
      ],
      "text/plain": [
       "      Irs4  Nrl\n",
       "wt    220.5 379\n",
       "NrlKO 159.5   1"
      ]
     },
     "metadata": {},
     "output_type": "display_data"
    },
    {
     "data": {
      "text/html": [
       "<dl class=dl-horizontal>\n",
       "\t<dt>Irs4.W</dt>\n",
       "\t\t<dd>220.5</dd>\n",
       "\t<dt>Nrl.W</dt>\n",
       "\t\t<dd>379</dd>\n",
       "</dl>\n"
      ],
      "text/latex": [
       "\\begin{description*}\n",
       "\\item[Irs4.W] 220.5\n",
       "\\item[Nrl.W] 379\n",
       "\\end{description*}\n"
      ],
      "text/markdown": [
       "Irs4.W\n",
       ":   220.5Nrl.W\n",
       ":   379\n",
       "\n"
      ],
      "text/plain": [
       "Irs4.W  Nrl.W \n",
       " 220.5  379.0 "
      ]
     },
     "metadata": {},
     "output_type": "display_data"
    }
   ],
   "source": [
    "(wilcTest <- by(miniDat, miniDat$gene, function(theDat) {\n",
    "    wilcox.test(gExp ~ gType, theDat)\n",
    "}))\n",
    "\n",
    "## Warning messages:\n",
    "## 1: In wilcox.test.default(x = c(7.867, 7.783, 7.585, 7.4, 7.667, 7.818,  :\n",
    "##   cannot compute exact p-value with ties\n",
    "## 2: In wilcox.test.default(x = c(8.761, 9.079, 10.61, 9.796, 11.39,  :\n",
    "##   cannot compute exact p-value with ties\n",
    "\n",
    "## hmmm..... there are *ties*? really?\n",
    "by(miniDat, miniDat$gene, function(theDat) rank(theDat$gExp))\n",
    "## yep, sure are, for both Irs4 and Nrl .... strange\n",
    "\n",
    "## let's recreate the Wilcoxon test statistic\n",
    "(jRankSums <- by(miniDat, miniDat$gene, function(theDat) {\n",
    "    tapply(rank(theDat$gExp), theDat$gType, sum)\n",
    "}))\n",
    "\n",
    "(sampSize <- c(nY, nZ))\n",
    "\n",
    "## from wilcox.text, we learn this: \"The literature is not unanimous\n",
    "## about the definitions of the Wilcoxon rank sum and Mann-Whitney\n",
    "## tests.  The two most common definitions correspond to the sum of\n",
    "## the ranks of the first sample with the minimum value subtracted or\n",
    "## not: R subtracts and S-PLUS does not, giving a value which is\n",
    "## larger by m(m+1)/2 for a first sample of size m.\"\n",
    "\n",
    "sapply(jRankSums, function(foo) foo - sampSize * (sampSize + 1)/2)\n",
    "\n",
    "## focus on the first row of that table -- the rank sums for wild type\n",
    "## with the associated minimum subtracted\n",
    "\n",
    "sapply(wilcTest, function(foo) foo$stat)\n",
    "\n",
    "## Compare to output of the \"official\" test.\n",
    "## See! we've computed the test statistic for ourselves."
   ]
  },
  {
   "cell_type": "code",
   "execution_count": 17,
   "metadata": {
    "slideshow": {
     "slide_type": "-"
    }
   },
   "outputs": [
    {
     "name": "stderr",
     "output_type": "stream",
     "text": [
      "Warning message in ks.test(x = theDat$gExp[theDat$gType == \"wt\"], y = theDat$gExp[theDat$gType == :\n",
      "\"cannot compute exact p-value with ties\"Warning message in ks.test(x = theDat$gExp[theDat$gType == \"wt\"], y = theDat$gExp[theDat$gType == :\n",
      "\"cannot compute exact p-value with ties\""
     ]
    },
    {
     "data": {
      "text/plain": [
       "miniDat$gene: Irs4\n",
       "\n",
       "\tTwo-sample Kolmogorov-Smirnov test\n",
       "\n",
       "data:  theDat$gExp[theDat$gType == \"wt\"] and theDat$gExp[theDat$gType == \"NrlKO\"]\n",
       "D = 0.28421, p-value = 0.4107\n",
       "alternative hypothesis: two-sided\n",
       "\n",
       "------------------------------------------------------------ \n",
       "miniDat$gene: Nrl\n",
       "\n",
       "\tTwo-sample Kolmogorov-Smirnov test\n",
       "\n",
       "data:  theDat$gExp[theDat$gType == \"wt\"] and theDat$gExp[theDat$gType == \"NrlKO\"]\n",
       "D = 0.95, p-value = 4.603e-08\n",
       "alternative hypothesis: two-sided\n"
      ]
     },
     "metadata": {},
     "output_type": "display_data"
    },
    {
     "data": {
      "image/png": "[encoded data removed]",
      "text/plain": [
       "plot without title"
      ]
     },
     "metadata": {},
     "output_type": "display_data"
    }
   ],
   "source": [
    "###############################################\n",
    "## \"two groups\" inference: Kolmogorov-Smirnov\n",
    "###############################################\n",
    "\n",
    "## sadly, ks.test() has no formula interface\n",
    "\n",
    "(ksTest <- by(miniDat, miniDat$gene, function(theDat) {\n",
    "    ks.test(x = theDat$gExp[theDat$gType == \"wt\"],\n",
    "            y = theDat$gExp[theDat$gType == \"NrlKO\"])\n",
    "}))\n",
    "## more moaning about the ties\n",
    "\n",
    "\n",
    "## fodder for recreating the KS test stat by hand ... leaving for now\n",
    "## THIS CODE WILL NOT WORK 'AS IS'!!\n",
    "\n",
    "## foo <- ecdf(miniDat$gExp)\n",
    "\n",
    "## x <- rnorm(12)\n",
    "## Fn <- ecdf(x)\n",
    "## Fn     # a *function*\n",
    "## Fn(x)  # returns the percentiles for x\n",
    "## tt <- seq(-2,2, by = 0.1)\n",
    "## 12 * Fn(tt) # Fn is a 'simple' function {with values k/12}\n",
    "## summary(Fn)\n",
    "## ##--> see below for graphics\n",
    "## knots(Fn)# the unique data values {12 of them if there were no ties}\n",
    "## plot(tt, Fn(tt))\n",
    "\n",
    "ecdfplot(~ gExp | gene, miniDat,\n",
    "         scales = list(x = list(relation = \"free\")),\n",
    "          groups = gType)"
   ]
  },
  {
   "cell_type": "code",
   "execution_count": 18,
   "metadata": {
    "slideshow": {
     "slide_type": "-"
    }
   },
   "outputs": [
    {
     "data": {
      "image/png": "[encoded data removed]",
      "text/plain": [
       "plot without title"
      ]
     },
     "metadata": {},
     "output_type": "display_data"
    },
    {
     "data": {
      "text/plain": [
       "\n",
       "\tTwo Sample t-test\n",
       "\n",
       "data:  gExp by gType\n",
       "t = 0.52865, df = 37, p-value = 0.6002\n",
       "alternative hypothesis: true difference in means is not equal to 0\n",
       "95 percent confidence interval:\n",
       " -0.07383844  0.12597002\n",
       "sample estimates:\n",
       "   mean in group wt mean in group NrlKO \n",
       "           7.765750            7.739684 \n"
      ]
     },
     "metadata": {},
     "output_type": "display_data"
    },
    {
     "data": {
      "text/plain": [
       "            Df Sum Sq Mean Sq F value Pr(>F)\n",
       "gType        1 0.0066 0.00662   0.279    0.6\n",
       "Residuals   37 0.8764 0.02369               "
      ]
     },
     "metadata": {},
     "output_type": "display_data"
    },
    {
     "data": {
      "text/plain": [
       "\n",
       "Call:\n",
       "lm(formula = gExp ~ gType, data = miniDat, subset = gene == \"Irs4\")\n",
       "\n",
       "Residuals:\n",
       "     Min       1Q   Median       3Q      Max \n",
       "-0.36575 -0.09072  0.01725  0.09428  0.36525 \n",
       "\n",
       "Coefficients:\n",
       "            Estimate Std. Error t value Pr(>|t|)    \n",
       "(Intercept)  7.76575    0.03441 225.650   <2e-16 ***\n",
       "gTypeNrlKO  -0.02607    0.04931  -0.529      0.6    \n",
       "---\n",
       "Signif. codes:  0 '***' 0.001 '**' 0.01 '*' 0.05 '.' 0.1 ' ' 1\n",
       "\n",
       "Residual standard error: 0.1539 on 37 degrees of freedom\n",
       "Multiple R-squared:  0.007497,\tAdjusted R-squared:  -0.01933 \n",
       "F-statistic: 0.2795 on 1 and 37 DF,  p-value: 0.6002\n"
      ]
     },
     "metadata": {},
     "output_type": "display_data"
    },
    {
     "data": {
      "text/html": [
       "<table>\n",
       "<caption>A matrix: 2 × 2 of type dbl</caption>\n",
       "<thead>\n",
       "\t<tr><th></th><th scope=col>Irs4</th><th scope=col>Nrl</th></tr>\n",
       "</thead>\n",
       "<tbody>\n",
       "\t<tr><th scope=row>wt</th><td>7.765750</td><td>11.244200</td></tr>\n",
       "\t<tr><th scope=row>NrlKO</th><td>7.739684</td><td> 6.089632</td></tr>\n",
       "</tbody>\n",
       "</table>\n"
      ],
      "text/latex": [
       "A matrix: 2 × 2 of type dbl\n",
       "\\begin{tabular}{r|ll}\n",
       "  & Irs4 & Nrl\\\\\n",
       "\\hline\n",
       "\twt & 7.765750 & 11.244200\\\\\n",
       "\tNrlKO & 7.739684 &  6.089632\\\\\n",
       "\\end{tabular}\n"
      ],
      "text/markdown": [
       "\n",
       "A matrix: 2 × 2 of type dbl\n",
       "\n",
       "| <!--/--> | Irs4 | Nrl |\n",
       "|---|---|---|\n",
       "| wt | 7.765750 | 11.244200 |\n",
       "| NrlKO | 7.739684 |  6.089632 |\n",
       "\n"
      ],
      "text/plain": [
       "      Irs4     Nrl      \n",
       "wt    7.765750 11.244200\n",
       "NrlKO 7.739684  6.089632"
      ]
     },
     "metadata": {},
     "output_type": "display_data"
    },
    {
     "data": {
      "text/html": [
       "-0.0260660000000001"
      ],
      "text/latex": [
       "-0.0260660000000001"
      ],
      "text/markdown": [
       "-0.0260660000000001"
      ],
      "text/plain": [
       "[1] -0.026066"
      ]
     },
     "metadata": {},
     "output_type": "display_data"
    },
    {
     "data": {
      "text/html": [
       "<strong>t:</strong> 0.528649350859384"
      ],
      "text/latex": [
       "\\textbf{t:} 0.528649350859384"
      ],
      "text/markdown": [
       "**t:** 0.528649350859384"
      ],
      "text/plain": [
       "        t \n",
       "0.5286494 "
      ]
     },
     "metadata": {},
     "output_type": "display_data"
    },
    {
     "data": {
      "text/html": [
       "0.27947018812036"
      ],
      "text/latex": [
       "0.27947018812036"
      ],
      "text/markdown": [
       "0.27947018812036"
      ],
      "text/plain": [
       "[1] 0.2794702"
      ]
     },
     "metadata": {},
     "output_type": "display_data"
    },
    {
     "data": {
      "image/png": "[encoded data removed]",
      "text/plain": [
       "plot without title"
      ]
     },
     "metadata": {},
     "output_type": "display_data"
    }
   ],
   "source": [
    "###############################################\n",
    "## direct support of first little bit of \"beyond two groups\" lecture\n",
    "###############################################\n",
    "\n",
    "## stripplot **for Irs4** by itself\n",
    "stripplot(gType ~ gExp | gene, miniDat,\n",
    "          subset = gene == \"Irs4\",\n",
    "          groups = gType, auto.key = TRUE,\n",
    "          aspect = 0.5)\n",
    "\n",
    "## stripplot with sample means **for Irs4** by itself\n",
    "jFudge <- 0.35\n",
    "stripplot(gType ~ gExp | gene, miniDat,\n",
    "          subset = gene == \"Irs4\",\n",
    "          grid = TRUE, aspect = 0.5,\n",
    "          groups = gType, jitter.data = TRUE,\n",
    "          panel = panel.superpose,\n",
    "          panel.groups = function(x, y, ..., group.number) {\n",
    "            yo <- group.number\n",
    "            panel.stripplot(x, y, ...)\n",
    "            theAvg <- mean(x)\n",
    "            panel.points(theAvg, y[1], pch = \"|\", cex = jCex,\n",
    "                         col = jCols[group.number])\n",
    "            jLab <- substitute(paste(bar(Z), \" = \", foo),\n",
    "                        list(Z = c(\"Y\", \"Z\")[group.number],\n",
    "                             foo = round(theAvg, 2)))\n",
    "            panel.text(x = mean(x), y = y[1] + jFudge,\n",
    "                       jLab)\n",
    "          })\n",
    "\n",
    "t.test(gExp ~ gType, miniDat,\n",
    "       subset = gene == \"Irs4\", var.equal = TRUE)\n",
    "\n",
    "summary(aov(gExp ~ gType, miniDat,\n",
    "            subset = gene == \"Irs4\"))\n",
    "\n",
    "summary(lm(gExp ~ gType, miniDat,\n",
    "           subset = gene == \"Irs4\"))\n",
    "\n",
    "## for pasting into slides\n",
    "theAvgs\n",
    "7.739684 - 7.765750\n",
    "t.test(gExp ~ gType, miniDat,\n",
    "       subset = gene == \"Irs4\", var.equal = TRUE)$stat\n",
    "0.5286494 ^ 2"
   ]
  }
 ],
 "metadata": {
  "celltoolbar": "Slideshow",
  "kernelspec": {
   "display_name": "R",
   "language": "R",
   "name": "ir"
  },
  "language_info": {
   "codemirror_mode": "r",
   "file_extension": ".r",
   "mimetype": "text/x-r-source",
   "name": "R",
   "pygments_lexer": "r",
   "version": "3.4.1"
  },
  "livereveal": {
   "autolaunch": true,
   "scroll": true
  }
 },
 "nbformat": 4,
 "nbformat_minor": 2
}
